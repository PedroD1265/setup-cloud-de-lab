{
 "cells": [
  {
   "cell_type": "code",
   "execution_count": null,
   "id": "87464a03-2f3b-4fea-b3ed-6089850fa689",
   "metadata": {},
   "outputs": [],
   "source": [
    "import sys\n",
    "print(f\"Versión de Python: {sys.version}\")"
   ]
  },
  {
   "cell_type": "code",
   "execution_count": null,
   "id": "43c66d69-c7ca-4159-a0b0-7d81f85a82ad",
   "metadata": {},
   "outputs": [],
   "source": [
    "import pandas as pd\n",
    "import numpy as np\n",
    "import matplotlib.pyplot as plt\n",
    "\n",
    "print(\"Pandas:\", pd.__version__)\n",
    "print(\"NumPy:\", np.__version__)\n",
    "print(\"Matplotlib:\", plt.__version__)\n"
   ]
  },
  {
   "cell_type": "code",
   "execution_count": null,
   "id": "50c6d54d-5cd7-494b-8313-03919affe022",
   "metadata": {},
   "outputs": [],
   "source": [
    "x = np.linspace(0, 10, 100)\n",
    "y = np.sin(x)\n",
    "\n",
    "plt.plot(x, y)\n",
    "plt.title(\"Gráfico de prueba\")\n",
    "plt.xlabel(\"x\")\n",
    "plt.ylabel(\"sin(x)\")\n",
    "plt.grid(True)\n",
    "plt.show()\n"
   ]
  },
  {
   "cell_type": "code",
   "execution_count": null,
   "id": "f4aba557-2bfa-448c-a8fa-7ffd0fc6b0e2",
   "metadata": {},
   "outputs": [],
   "source": [
    "data = {\n",
    "    \"Nombre\": [\"Pedro\", \"Ana\", \"Luis\"],\n",
    "    \"Edad\": [26, 24, 30],\n",
    "    \"Ciudad\": [\"La Paz\", \"Cochabamba\", \"Santa Cruz\"]\n",
    "}\n",
    "\n",
    "df = pd.DataFrame(data)\n",
    "df\n"
   ]
  }
 ],
 "metadata": {
  "kernelspec": {
   "display_name": "Python 3 (ipykernel)",
   "language": "python",
   "name": "python3"
  },
  "language_info": {
   "codemirror_mode": {
    "name": "ipython",
    "version": 3
   },
   "file_extension": ".py",
   "mimetype": "text/x-python",
   "name": "python",
   "nbconvert_exporter": "python",
   "pygments_lexer": "ipython3",
   "version": "3.13.3"
  }
 },
 "nbformat": 4,
 "nbformat_minor": 5
}
