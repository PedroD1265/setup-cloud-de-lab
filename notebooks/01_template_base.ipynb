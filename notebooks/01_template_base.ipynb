{
 "cells": [
  {
   "cell_type": "code",
   "execution_count": null,
   "id": "54b7d7d2-8cec-4772-90d8-4f59eddb0784",
   "metadata": {},
   "outputs": [],
   "source": [
    "# 📊 Proyecto: [TÍTULO DEL PROYECTO]\n",
    "**Autor:** Pedro Delgadillo  \n",
    "**Fecha:** {{YYYY-MM-DD}}  \n",
    "**Descripción:** Breve resumen de qué hace este notebook.\n"
   ]
  },
  {
   "cell_type": "code",
   "execution_count": null,
   "id": "c5e59312-dc54-4873-ba64-873b02d55e0d",
   "metadata": {},
   "outputs": [],
   "source": [
    "import pandas as pd\n",
    "import numpy as np\n",
    "import matplotlib.pyplot as plt\n",
    "import seaborn as sns\n",
    "\n",
    "# Estilo visual para gráficos\n",
    "sns.set(style=\"whitegrid\")\n",
    "plt.rcParams[\"figure.figsize\"] = (10, 5)\n"
   ]
  },
  {
   "cell_type": "code",
   "execution_count": null,
   "id": "5492ce8a-a0a6-4837-8d85-466fcfa77126",
   "metadata": {},
   "outputs": [],
   "source": [
    "import os\n",
    "\n",
    "BASE_DIR = os.getcwd()\n",
    "DATA_DIR = os.path.join(BASE_DIR, \"datasets\")\n",
    "CONFIG_DIR = os.path.join(BASE_DIR, \"config\")\n",
    "\n",
    "print(\"Directorio actual:\", BASE_DIR)\n"
   ]
  },
  {
   "cell_type": "code",
   "execution_count": null,
   "id": "a065fc0a-86cb-4397-b8b5-e2d633e14325",
   "metadata": {},
   "outputs": [],
   "source": [
    "# df = pd.read_csv(os.path.join(DATA_DIR, \"archivo.csv\"))\n",
    "# df.head()\n"
   ]
  },
  {
   "cell_type": "code",
   "execution_count": null,
   "id": "0e95606c-d945-4baf-bb83-80bd42e9dee4",
   "metadata": {},
   "outputs": [],
   "source": [
    "## 🔄 1. Carga de datos  \n",
    "## 🧹 2. Limpieza y validación  \n",
    "## 📊 3. Análisis exploratorio  \n",
    "## 🧠 4. Modelado (si aplica)  \n",
    "## 📝 5. Conclusiones y próximos pasos\n"
   ]
  },
  {
   "cell_type": "code",
   "execution_count": null,
   "id": "a4be7d7b-4090-4d63-b24a-c83ab5eb1a3f",
   "metadata": {},
   "outputs": [],
   "source": [
    "print(\"✅ Plantilla cargada correctamente\")\n"
   ]
  }
 ],
 "metadata": {
  "kernelspec": {
   "display_name": "Python 3 (ipykernel)",
   "language": "python",
   "name": "python3"
  },
  "language_info": {
   "codemirror_mode": {
    "name": "ipython",
    "version": 3
   },
   "file_extension": ".py",
   "mimetype": "text/x-python",
   "name": "python",
   "nbconvert_exporter": "python",
   "pygments_lexer": "ipython3",
   "version": "3.13.3"
  }
 },
 "nbformat": 4,
 "nbformat_minor": 5
}
